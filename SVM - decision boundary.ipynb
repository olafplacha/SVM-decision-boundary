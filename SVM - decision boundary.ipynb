{
 "cells": [
  {
   "cell_type": "markdown",
   "metadata": {},
   "source": [
    "<h3><center> Playing with toy dataset using SVMs and visualizing the decision boundary </center></h3>"
   ]
  },
  {
   "cell_type": "code",
   "execution_count": 1,
   "metadata": {
    "collapsed": true
   },
   "outputs": [],
   "source": [
    "#import svm from sklearn library\n",
    "from sklearn import svm\n",
    "#importing matplotlib to visualize the dataset\n",
    "import matplotlib.pyplot as plt\n",
    "\n",
    "%matplotlib inline"
   ]
  },
  {
   "cell_type": "code",
   "execution_count": 2,
   "metadata": {
    "collapsed": true
   },
   "outputs": [],
   "source": [
    "#feature matrix\n",
    "X = [[6,3],[7,8],[5,9],[3,2],[2,6],[3,6],[-1,-1],[-2,3],[0,6],[0,8],[5,5.5],[5,5],[3,7],[-2,9]]\n",
    "#labels vector\n",
    "Y = [1,1,0,0,1,1,0,0,0,1,1,1,1,0]"
   ]
  },
  {
   "cell_type": "code",
   "execution_count": 3,
   "metadata": {
    "collapsed": false
   },
   "outputs": [],
   "source": [
    "#function separating positive and negative samples\n",
    "def separate(X, Y):\n",
    "    \"\"\"\n",
    "    Inputs:\n",
    "    -> X - feature matrix\n",
    "    -> Y - labels vector\n",
    "    Returns:\n",
    "    -> positive - matrix holding features of positive samples\n",
    "    -> negative - matrix holding features of negative samples\n",
    "    \"\"\"\n",
    "    positive = []\n",
    "    negative = []\n",
    "\n",
    "    for i, label in enumerate(Y):\n",
    "\n",
    "        if label:\n",
    "            positive.append(X[i])\n",
    "        else:\n",
    "            negative.append(X[i])\n",
    "    \n",
    "    return positive, negative    "
   ]
  },
  {
   "cell_type": "code",
   "execution_count": 4,
   "metadata": {
    "collapsed": false
   },
   "outputs": [
    {
     "name": "stdout",
     "output_type": "stream",
     "text": [
      "[[6, 3], [7, 8], [2, 6], [3, 6], [0, 8], [5, 5.5], [5, 5], [3, 7]]\n",
      "[[5, 9], [3, 2], [-1, -1], [-2, 3], [0, 6], [-2, 9]]\n"
     ]
    }
   ],
   "source": [
    "positive, negative = separate(X, Y)\n",
    "print(positive)\n",
    "print(negative)"
   ]
  },
  {
   "cell_type": "code",
   "execution_count": 5,
   "metadata": {
    "collapsed": false
   },
   "outputs": [
    {
     "data": {
      "image/png": "[encoded data removed]",
      "text/plain": [
       "<matplotlib.figure.Figure at 0x15fd466dcf8>"
      ]
     },
     "metadata": {},
     "output_type": "display_data"
    }
   ],
   "source": [
    "#plotting the samples\n",
    "plt.scatter([sample[0] for sample in positive], [sample[1] for sample in positive], marker='+', c='b', s=100)\n",
    "plt.scatter([sample[0] for sample in negative], [sample[1] for sample in negative], marker='_', c='r', s=100)\n",
    "plt.show()"
   ]
  },
  {
   "cell_type": "code",
   "execution_count": 6,
   "metadata": {
    "collapsed": false
   },
   "outputs": [
    {
     "data": {
      "text/plain": [
       "array([1, 0])"
      ]
     },
     "execution_count": 6,
     "metadata": {},
     "output_type": "execute_result"
    }
   ],
   "source": [
    "#utilizing SVM Classifier on the dataset\n",
    "clf = svm.SVC()\n",
    "clf.fit(X,Y)\n",
    "\n",
    "#sanity check\n",
    "clf.predict([[5,5],[0,4.5]])"
   ]
  },
  {
   "cell_type": "markdown",
   "metadata": {},
   "source": [
    "#### See what a meshgrid looks like"
   ]
  },
  {
   "cell_type": "code",
   "execution_count": 7,
   "metadata": {
    "collapsed": false
   },
   "outputs": [
    {
     "data": {
      "image/png": "[encoded data removed]",
      "text/plain": [
       "<matplotlib.figure.Figure at 0x15fd466d6a0>"
      ]
     },
     "metadata": {},
     "output_type": "display_data"
    }
   ],
   "source": [
    "#if we want to plot the decision boundary of the SVM algorithm,\n",
    "#we can use a meshgrid, depicted below (it creates many points,\n",
    "#for which we can predict the label. Based on the predictions,\n",
    "#we will plot a decision boundary)\n",
    "\n",
    "#import numpy for creating a meshgrid\n",
    "import numpy as np\n",
    "\n",
    "#create a meshgrid\n",
    "mesh = np.meshgrid(np.arange(1,15,.5),np.arange(1,20,1))\n",
    " \n",
    "#plot meshgrid using scatterplot\n",
    "plt.scatter(mesh[0],mesh[1])\n",
    "plt.show()"
   ]
  },
  {
   "cell_type": "markdown",
   "metadata": {},
   "source": [
    "#### Now we will plot the decision boundary"
   ]
  },
  {
   "cell_type": "code",
   "execution_count": 8,
   "metadata": {
    "collapsed": false
   },
   "outputs": [
    {
     "data": {
      "image/png": "[encoded data removed]",
      "text/plain": [
       "<matplotlib.figure.Figure at 0x15fd4493b38>"
      ]
     },
     "metadata": {},
     "output_type": "display_data"
    }
   ],
   "source": [
    "#converting X and Y lists to numpy arrays (it will make matrix operations easier)\n",
    "X = np.array(X)\n",
    "Y = np.array(Y)\n",
    "\n",
    "#stepsize in the mesh\n",
    "h = .02\n",
    "#creating a meshgrid\n",
    "x_min, x_max = X[:,0].min() - 1, X[:,0].max() + 1\n",
    "y_min, y_max = X[:,1].min() - 1, X[:,1].max() + 1\n",
    "xx, yy = np.meshgrid(np.arange(x_min, x_max, h), np.arange(y_min, y_max, h))\n",
    "#predict the labels of the points in the meshgrid\n",
    "Z = clf.predict(np.c_[xx.ravel(),yy.ravel()])\n",
    "Z = Z.reshape(xx.shape)\n",
    "\n",
    "#plotting our dataset and decision boundary\n",
    "plt.contour(xx, yy, Z, cmap=plt.cm.seismic)\n",
    "plt.scatter([sample[0] for sample in positive], [sample[1] for sample in positive], marker='+', c='b', s=100)\n",
    "plt.scatter([sample[0] for sample in negative], [sample[1] for sample in negative], marker='_', c='r', s=100)\n",
    "plt.show()"
   ]
  }
 ],
 "metadata": {
  "kernelspec": {
   "display_name": "Python 3",
   "language": "python",
   "name": "python3"
  },
  "language_info": {
   "codemirror_mode": {
    "name": "ipython",
    "version": 3
   },
   "file_extension": ".py",
   "mimetype": "text/x-python",
   "name": "python",
   "nbconvert_exporter": "python",
   "pygments_lexer": "ipython3",
   "version": "3.6.0"
  }
 },
 "nbformat": 4,
 "nbformat_minor": 2
}
